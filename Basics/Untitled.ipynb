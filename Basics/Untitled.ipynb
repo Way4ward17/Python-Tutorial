{
 "cells": [
  {
   "cell_type": "markdown",
   "metadata": {},
   "source": [
    "# VARIABLES"
   ]
  },
  {
   "cell_type": "code",
   "execution_count": 9,
   "metadata": {},
   "outputs": [
    {
     "data": {
      "text/plain": [
       "1930"
      ]
     },
     "execution_count": 9,
     "metadata": {},
     "output_type": "execute_result"
    }
   ],
   "source": [
    ">>> exp = [2200,2350,2600,2130,2190]\n",
    "\n",
    "# (a)\n",
    ">>> exp[1]-exp[0]\n",
    "150 \n",
    "\n",
    "# (b)\n",
    ">>> exp[0]+exp[1]+exp[2]\n",
    "7150 \n",
    "\n",
    "# (c)\n",
    ">>> 2000 in exp\n",
    "False # Means you didn’t spend 2000$ in any of the month\n",
    "\n",
    "# (d)\n",
    ">>> exp.append(1980)\n",
    ">>> exp\n",
    "[2200, 2350, 2600, 2130, 2190, 1980]\n",
    "\n",
    "# (e)\n",
    ">>> exp[3] = exp[3] - 200\n",
    ">>> exp[3]"
   ]
  },
  {
   "cell_type": "markdown",
   "metadata": {},
   "source": [
    "# NUMBERS"
   ]
  },
  {
   "cell_type": "code",
   "execution_count": 5,
   "metadata": {},
   "outputs": [
    {
     "data": {
      "text/plain": [
       "165.0"
      ]
     },
     "execution_count": 5,
     "metadata": {},
     "output_type": "execute_result"
    }
   ],
   "source": [
    ">>> base=15\n",
    ">>> height=22\n",
    ">>> area=1/2*(base*height)\n",
    ">>> area\n"
   ]
  },
  {
   "cell_type": "code",
   "execution_count": null,
   "metadata": {},
   "outputs": [],
   "source": []
  }
 ],
 "metadata": {
  "kernelspec": {
   "display_name": "Python 3",
   "language": "python",
   "name": "python3"
  },
  "language_info": {
   "codemirror_mode": {
    "name": "ipython",
    "version": 3
   },
   "file_extension": ".py",
   "mimetype": "text/x-python",
   "name": "python",
   "nbconvert_exporter": "python",
   "pygments_lexer": "ipython3",
   "version": "3.7.4"
  }
 },
 "nbformat": 4,
 "nbformat_minor": 2
}
